{
 "cells": [
  {
   "cell_type": "markdown",
   "metadata": {},
   "source": [
    "### 动态规划三要素\n",
    "+ 重叠子问题 （备忘录/DP Table解决）\n",
    "+ 最优子结构\n",
    "+ 状态转移矩阵 "
   ]
  },
  {
   "cell_type": "code",
   "execution_count": 37,
   "metadata": {},
   "outputs": [],
   "source": [
    "### 斐波拉契数"
   ]
  },
  {
   "cell_type": "code",
   "execution_count": 5,
   "metadata": {},
   "outputs": [
    {
     "data": {
      "text/plain": [
       "6765"
      ]
     },
     "execution_count": 5,
     "metadata": {},
     "output_type": "execute_result"
    }
   ],
   "source": [
    "# 带备忘录的递归解法\n",
    "# 维护数组/哈希表，保存已经计算过的位置\n",
    "# 每个位置计算一次，每次计算无循环，因此算法复杂度为 O(N)\n",
    "def fib(N):\n",
    "    mems = [0] * (N + 1)\n",
    "    return helper(mems, N)\n",
    "\n",
    "def helper(mems, n):\n",
    "    if n == 0 or n == 1: return n\n",
    "\n",
    "    if mems[n] != 0:\n",
    "        # 已经计算过\n",
    "        return mems[n]\n",
    "    mems[n] = helper(mems, n-1) + helper(mems, n-2)\n",
    "    return mems[n]\n",
    "\n",
    "fib(20)"
   ]
  },
  {
   "cell_type": "code",
   "execution_count": 7,
   "metadata": {},
   "outputs": [
    {
     "data": {
      "text/plain": [
       "6765"
      ]
     },
     "execution_count": 7,
     "metadata": {},
     "output_type": "execute_result"
    }
   ],
   "source": [
    "# DP数组解法，与备忘录类似，存储了每次计算的结果\n",
    "# f(n) = f(n-1) + f(n-2)，当前计算的位置只与前两个位置相关，因此可以只保留前两位置（空间复杂度O(1)）\n",
    "def fib(N):\n",
    "    if N ==0: return 0\n",
    "    dp = [0] * (N+1)\n",
    "    dp[0], dp[1] = 0, 1\n",
    "    for i in range(2, N+1):\n",
    "        dp[i] = dp[i-1] + dp[i-2]\n",
    "    return dp[N]\n",
    "fib(20)"
   ]
  },
  {
   "cell_type": "markdown",
   "metadata": {},
   "source": [
    "#### 凑零钱\n",
    "给你 k 种面值的硬币，面值分别为 c1, c2 ... ck，每种硬币的数量无限，再给一个总金额 amount，问你最少需要几枚硬币凑出这个金额，如果不可能凑出，算法返回 -1 "
   ]
  },
  {
   "cell_type": "code",
   "execution_count": 35,
   "metadata": {},
   "outputs": [
    {
     "data": {
      "text/plain": [
       "6"
      ]
     },
     "execution_count": 35,
     "metadata": {},
     "output_type": "execute_result"
    }
   ],
   "source": [
    "# 备忘录\n",
    "# 状态:amount   选择：coins 最优子问题\n",
    "mens = []\n",
    "def coinChange(coins, amount):\n",
    "    mens = [-9] * (amount + 1)\n",
    "    return dp(coins, amount, mens)\n",
    "\n",
    "def dp(coins, amount, mens):\n",
    "    if amount == 0: return 0\n",
    "    if amount < 0 : return -1\n",
    "    # 已计算\n",
    "    if mens[amount] != -9: return mens[amount]\n",
    "    import sys\n",
    "    res = sys.maxsize\n",
    "    # 对每个目标值计算所有组合\n",
    "    for coin in coins:\n",
    "        sub_problem_mincount = dp(coins, amount - coin, mens)\n",
    "        if sub_problem_mincount == -1: continue\n",
    "        res = min(res, sub_problem_mincount + 1)\n",
    "    mens[amount] = res\n",
    "    return mens[amount]\n",
    "coinChange([1,2,5], 30)"
   ]
  },
  {
   "cell_type": "code",
   "execution_count": 36,
   "metadata": {},
   "outputs": [
    {
     "data": {
      "text/plain": [
       "6"
      ]
     },
     "execution_count": 36,
     "metadata": {},
     "output_type": "execute_result"
    }
   ],
   "source": [
    "# DP数组\n",
    "# 状态 amount, 选择coins，每个状态均遍历所有选择\n",
    "def coinChange(coins, amount):\n",
    "    dp = [amount+1] * (amount + 1)\n",
    "    dp[0] = 0\n",
    "    for i in range(0, amount+1):\n",
    "        for coin in coins:\n",
    "            if i - coin < 0: continue\n",
    "            dp[i] = min(dp[i], dp[i-coin] + 1)\n",
    "    return dp[amount]\n",
    "coinChange([1,2,5], 30)"
   ]
  },
  {
   "cell_type": "code",
   "execution_count": 41,
   "metadata": {},
   "outputs": [
    {
     "data": {
      "text/plain": [
       "2"
      ]
     },
     "execution_count": 41,
     "metadata": {},
     "output_type": "execute_result"
    }
   ],
   "source": [
    "# 题目：最长递增子序列\n",
    "# 子序列最小长度为1，时间复杂度 O(n**2)\n",
    "# index=i为结尾的最长子序列，比较index < i中数值小于nums[i]的数对应的最长子序列\n",
    "def LIS(nums):\n",
    "    dp = [1] * len(nums)\n",
    "    max_value = 0\n",
    "    for i in range(len(nums)):\n",
    "        for j in range(i):\n",
    "            if nums[i] > nums[j]:\n",
    "                dp[i] = max(dp[i], dp[j] + 1)\n",
    "        max_value = max(max_value, dp[i])\n",
    "    return max_value\n",
    "LIS([1,2,1])"
   ]
  },
  {
   "cell_type": "code",
   "execution_count": 76,
   "metadata": {},
   "outputs": [
    {
     "data": {
      "text/plain": [
       "13"
      ]
     },
     "execution_count": 76,
     "metadata": {},
     "output_type": "execute_result"
    }
   ],
   "source": [
    "# 题目：下降路径最短和\n",
    "from typing import List\n",
    "import sys\n",
    "\n",
    "def dp(matrix: List[List[int]], row_index: int, col_index: int) -> int:\n",
    "    # 边界判断\n",
    "    if row_index < 0 or col_index < 0 or row_index >= len(matrix) or col_index >= len(matrix[0]): return sys.maxsize\n",
    "\n",
    "    # 矩阵仅有一行\n",
    "    if row_index == 0: return matrix[row_index][col_index]\n",
    "\n",
    "    # 三种转移方式，选择最小路径和\n",
    "    return matrix[row_index][col_index] + min(dp(matrix, row_index-1, col_index), min(dp(matrix, row_index-1, col_index+1), dp(matrix, row_index-1, col_index-1)))\n",
    "    \n",
    "def minFallingPathSum(matrix: List[List[int]]) -> int:\n",
    "    nrows, ncols = len(matrix), len(matrix[0])\n",
    "    min_path_sum = sys.maxsize\n",
    "    for col_index in range(ncols):\n",
    "        min_path_sum = min(min_path_sum, dp(matrix, nrows-1, col_index))\n",
    "    return min_path_sum\n",
    "\n",
    "minFallingPathSum([[2,1,3],[6,5,4],[7,8,9]])"
   ]
  },
  {
   "cell_type": "code",
   "execution_count": 98,
   "metadata": {},
   "outputs": [
    {
     "data": {
      "text/plain": [
       "-59"
      ]
     },
     "execution_count": 98,
     "metadata": {},
     "output_type": "execute_result"
    }
   ],
   "source": [
    "# 备忘录\n",
    "\n",
    "def minFallingPathSum(matrix: List[List[int]]) -> int:\n",
    "    nrows, ncols = len(matrix), len(matrix[0])\n",
    "    dp = [[200 for i in range(ncols)] for j in range(nrows)]\n",
    "    for col_index in range(ncols):\n",
    "        dp[0][col_index] = matrix[0][col_index]\n",
    "    \n",
    "    for i in range(1, nrows):\n",
    "        for j in range(ncols):\n",
    "            if j == 0:\n",
    "                dp[i][j] = min(dp[i-1][j], dp[i-1][j+1]) + matrix[i][j]\n",
    "            elif j == ncols - 1:\n",
    "                dp[i][j] = min(dp[i-1][j], dp[i-1][j-1]) + matrix[i][j]\n",
    "            else:\n",
    "                dp[i][j] = min(dp[i-1][j-1], min(dp[i-1][j], dp[i-1][j+1])) + matrix[i][j]\n",
    "    return min(dp[nrows-1])\n",
    "\n",
    "minFallingPathSum([[-19,57],[-40,-5]])"
   ]
  },
  {
   "cell_type": "code",
   "execution_count": 109,
   "metadata": {},
   "outputs": [
    {
     "data": {
      "text/plain": [
       "165580141"
      ]
     },
     "execution_count": 109,
     "metadata": {},
     "output_type": "execute_result"
    }
   ],
   "source": [
    "# 爬楼梯，每次只能爬1/2个台阶\n",
    "# 初始值确定，发现dp[0]不符合规则，所以去除\n",
    "# 状态： 爬楼梯的方法数量   选择： 一次爬1层/2层\n",
    "def climbStairs(n: int) -> int:\n",
    "    dp = [0] * (n + 1)\n",
    "    dp[1], dp[2] = 1, 2\n",
    "    for i in range(3, n + 1):\n",
    "        dp[i] = (dp[i-1]) + (dp[i-2])\n",
    "    return dp[n]\n",
    "climbStairs(40)"
   ]
  },
  {
   "cell_type": "code",
   "execution_count": 114,
   "metadata": {},
   "outputs": [
    {
     "data": {
      "text/plain": [
       "1"
      ]
     },
     "execution_count": 114,
     "metadata": {},
     "output_type": "execute_result"
    }
   ],
   "source": [
    "# 最小花费爬楼梯\n",
    "# 状态： 爬楼梯的费用   选择： 每次爬1层/2层\n",
    "def minCostClimbingStairs(cost: List[int]) -> int:\n",
    "    stair_high = len(cost)\n",
    "    dp = [0] * (stair_high + 1)\n",
    "    for i in range(2, stair_high + 1):\n",
    "        dp[i] = min(dp[i-1] + cost[i-1], dp[i-2] + cost[i-2])\n",
    "    return dp[stair_high]\n",
    "minCostClimbingStairs([1,100])"
   ]
  },
  {
   "cell_type": "code",
   "execution_count": 138,
   "metadata": {},
   "outputs": [
    {
     "data": {
      "text/plain": [
       "[[1], [1, 1], [1, 2, 1], [1, 3, 3, 1]]"
      ]
     },
     "execution_count": 138,
     "metadata": {},
     "output_type": "execute_result"
    }
   ],
   "source": [
    "# 杨辉三角形 I \n",
    "# 当前位置为左上和右上数之和，边界位置为1\n",
    "def generate(numRows: int) -> List[List[int]]:\n",
    "    if numRows == 1:\n",
    "        return [[1]]\n",
    "\n",
    "    groups = []\n",
    "    for i in range(numRows):\n",
    "        rows = []\n",
    "        for j in range(0, i + 1):\n",
    "            if j == 0 or j == i:\n",
    "                rows.append(1)\n",
    "            else:\n",
    "                rows.append(groups[i-1][j-1] + groups[i-1][j])\n",
    "        groups.append(rows)\n",
    "    return groups\n",
    "generate(4)"
   ]
  },
  {
   "cell_type": "code",
   "execution_count": 141,
   "metadata": {},
   "outputs": [
    {
     "data": {
      "text/plain": [
       "[1, 1]"
      ]
     },
     "execution_count": 141,
     "metadata": {},
     "output_type": "execute_result"
    }
   ],
   "source": [
    "# 杨辉三角形 二\n",
    "# 计算方式同上，只返回最后一层的列表\n",
    "def getRow(rowIndex: int) -> List[int]:\n",
    "    if rowIndex == 0:\n",
    "        return [1]\n",
    "    \n",
    "    groups = []\n",
    "    for i in range(rowIndex + 1):\n",
    "        rows = []\n",
    "        for j in range(0, i + 1):\n",
    "            if j == 0 or j == i:\n",
    "                rows.append(1)\n",
    "            else:\n",
    "                rows.append(groups[i-1][j-1] + groups[i-1][j])\n",
    "        groups.append(rows)\n",
    "    return groups[rowIndex]\n",
    "getRow(1)"
   ]
  },
  {
   "cell_type": "code",
   "execution_count": 154,
   "metadata": {},
   "outputs": [
    {
     "data": {
      "text/plain": [
       "3"
      ]
     },
     "execution_count": 154,
     "metadata": {},
     "output_type": "execute_result"
    }
   ],
   "source": [
    "# 获取生成数组中的最大值 \n",
    "# 最多遍历次数不超过 n // 2\n",
    "def getMaximumGenerated(n: int) -> int:\n",
    "    if n == 0 or n == 1: return n\n",
    "\n",
    "    dp = [0] * (n + 1)\n",
    "    dp[0], dp[1] = 0, 1\n",
    "    for i in range(1, n // 2 + 1):\n",
    "        if 2 * i > n: break\n",
    "        if 2 * i <= n: dp[2 * i] = dp[i]\n",
    "        if 2 * i + 1 <= n : dp[2 * i + 1] = dp[i] + dp[i + 1]\n",
    "    return max(dp)\n",
    "getMaximumGenerated(7)"
   ]
  },
  {
   "cell_type": "code",
   "execution_count": 159,
   "metadata": {},
   "outputs": [
    {
     "data": {
      "text/plain": [
       "6"
      ]
     },
     "execution_count": 159,
     "metadata": {},
     "output_type": "execute_result"
    }
   ],
   "source": [
    "# 最大子数组\n",
    "def maxSubArray(nums: List[int]) -> int:\n",
    "    nums_size = len(nums)\n",
    "    if nums_size == 0: return 0\n",
    "\n",
    "    dp = [-666] * (nums_size + 1)\n",
    "    dp[0] = nums[0]\n",
    "    for i in range(1, nums_size):\n",
    "        dp[i] = max(dp[i-1] + nums[i], nums[i])\n",
    "    return max(dp)\n",
    "\n",
    "maxSubArray([-2,1,-3,4,-1,2,1,-5,4])"
   ]
  },
  {
   "cell_type": "code",
   "execution_count": 172,
   "metadata": {},
   "outputs": [
    {
     "data": {
      "text/plain": [
       "6"
      ]
     },
     "execution_count": 172,
     "metadata": {},
     "output_type": "execute_result"
    }
   ],
   "source": [
    "# 因为结果只依赖前一个数，所以只需要维护两个变量即可\n",
    "def maxSubArray(nums: List[int]) -> int:\n",
    "    nums_size = len(nums)\n",
    "    if nums_size == 0: return 0\n",
    "    if nums_size == 1: return nums[0]\n",
    "    pre, cur = nums[0], 0\n",
    "    max_value = nums[0]\n",
    "    for i in range(1, nums_size):\n",
    "        cur = max(pre + nums[i], nums[i])\n",
    "        pre = cur\n",
    "        max_value = max(max_value, cur)\n",
    "    return max_value\n",
    "\n",
    "maxSubArray([-2,1,-3,4,-1,2,1,-5,4])"
   ]
  },
  {
   "cell_type": "code",
   "execution_count": 194,
   "metadata": {},
   "outputs": [
    {
     "data": {
      "text/plain": [
       "1"
      ]
     },
     "execution_count": 194,
     "metadata": {},
     "output_type": "execute_result"
    }
   ],
   "source": [
    "# 最长公共子序列LCS\n",
    "def longestCommonSubsequence(text1: str, text2: str) -> int:\n",
    "    m, n = len(text1), len(text2)\n",
    "    dp = [[0 for i in range(n+1)] for j in range(m+1)]\n",
    "    for i in range(1, m+1):\n",
    "        for j in range(1, n+1):\n",
    "            if text1[i-1] == text2[j-1]:\n",
    "                dp[i][j] = dp[i-1][j-1] + 1\n",
    "            else:\n",
    "                dp[i][j] = max(dp[i-1][j], dp[i][j-1])\n",
    "    return dp[m][n]\n",
    "longestCommonSubsequence(\"abc\", \"dbf\")"
   ]
  },
  {
   "cell_type": "code",
   "execution_count": 191,
   "metadata": {},
   "outputs": [
    {
     "data": {
      "text/plain": [
       "3"
      ]
     },
     "execution_count": 191,
     "metadata": {},
     "output_type": "execute_result"
    }
   ],
   "source": [
    "# 备忘录\n",
    "mems = []\n",
    "def longestCommonSubsequence(text1: str, text2: str) -> int:\n",
    "    mems = [[-1 for i in range(len(text2))] for j in range(len(text1))]\n",
    "    return dp(text1, 0, text2, 0, mems)\n",
    "\n",
    "\n",
    "def dp(s1: str, i: int, s2: str, j:int, mems: List[List[int]]) -> int:\n",
    "    # 边界\n",
    "    if i == len(s1) or j == len(s2): return 0   \n",
    "\n",
    "    # 未计算\n",
    "    if mems[i][j] != -1: return mems[i][j]\n",
    "    if s1[i] == s2[j]:\n",
    "        mems[i][j] = dp(s1, i + 1, s2, j + 1, mems) + 1\n",
    "    else:\n",
    "        mems[i][j] = max(dp(s1, i+1, s2, j, mems), dp(s1, i, s2, j+1, mems))\n",
    "    return mems[i][j]\n",
    "\n",
    "longestCommonSubsequence(\"abc\", \"def\")"
   ]
  },
  {
   "cell_type": "code",
   "execution_count": 196,
   "metadata": {},
   "outputs": [
    {
     "data": {
      "text/plain": [
       "4"
      ]
     },
     "execution_count": 196,
     "metadata": {},
     "output_type": "execute_result"
    }
   ],
   "source": [
    "# 两个字符串，删除多少次后能一样 => 化解为求两个字符串的最长公共子串\n",
    "# 编辑距离的一种\n",
    "def minDistance(word1: str, word2: str) -> int:\n",
    "    m, n = len(word1), len(word2)\n",
    "    dp = [[0 for i in range(n+1)] for j in range(m+1)]\n",
    "    for i in range(1, m+1):\n",
    "        for j in range(1, n+1):\n",
    "            if word1[i-1] == word2[j-1]:\n",
    "                dp[i][j] = dp[i-1][j-1] + 1\n",
    "            else:\n",
    "                dp[i][j] = max(dp[i-1][j], dp[i][j-1])    \n",
    "    return len(word1) + len(word2) - dp[m][n] * 2\n",
    "\n",
    "minDistance(\"leetcode\", \"etco\")"
   ]
  },
  {
   "cell_type": "code",
   "execution_count": null,
   "metadata": {},
   "outputs": [],
   "source": [
    "# 最长递增子序列"
   ]
  }
 ],
 "metadata": {
  "kernelspec": {
   "display_name": "Python 3.9.12 ('base')",
   "language": "python",
   "name": "python3"
  },
  "language_info": {
   "codemirror_mode": {
    "name": "ipython",
    "version": 3
   },
   "file_extension": ".py",
   "mimetype": "text/x-python",
   "name": "python",
   "nbconvert_exporter": "python",
   "pygments_lexer": "ipython3",
   "version": "3.9.12"
  },
  "orig_nbformat": 4,
  "vscode": {
   "interpreter": {
    "hash": "88279d2366fe020547cde40dd65aa0e3aa662a6ec1f3ca12d88834876c85e1a6"
   }
  }
 },
 "nbformat": 4,
 "nbformat_minor": 2
}
