{
 "cells": [
  {
   "cell_type": "markdown",
   "metadata": {},
   "source": [
    "#### 背包问题（典型的动态规划）"
   ]
  },
  {
   "cell_type": "code",
   "execution_count": 2,
   "metadata": {},
   "outputs": [],
   "source": [
    "# 0-1背包\n",
    "# 选择是放入/不放入当前物品\n",
    "from typing import List\n",
    "def knapsack(W: int, N: int, wt: List[int], val: List[int]) -> int:\n",
    "    dp = [[0 for n in range(N+1)] for w in range(W+1)]\n",
    "    for i in range(1, W+1):\n",
    "        for j in range(1, N+1):\n",
    "            if W - wt[i-1] < 0:\n",
    "                dp[i][j] = dp[i-1][j]\n",
    "            else:\n",
    "                dp[i][j] = max(val[i-1] + dp[i-1][W-wt[j-1]], dp[i-1][j])\n",
    "    return dp[W][N]"
   ]
  },
  {
   "cell_type": "code",
   "execution_count": 17,
   "metadata": {},
   "outputs": [
    {
     "data": {
      "text/plain": [
       "False"
      ]
     },
     "execution_count": 17,
     "metadata": {},
     "output_type": "execute_result"
    }
   ],
   "source": [
    "# 分割等和子集，使得两个子集的元素和相等。\n",
    "# 转换成背包问题，一个背包不限制重量，价值正好是所有物品的价值和的一半\n",
    "# 状态是目前的和， 选择是列表元素的值\n",
    "def canPartition(nums: List[int]) -> bool:\n",
    "    # 无法分割成两个子集\n",
    "    if len(nums) <= 1: return False\n",
    "    nums_size = len(nums)\n",
    "    all_sum = sum(nums)\n",
    "    # 所有物品价值和为奇数，无法分割两个等和子集\n",
    "    if all_sum % 2 != 0: return False\n",
    "    \n",
    "    target_sum = all_sum // 2\n",
    "\n",
    "    dp = [[False for i in range(target_sum + 1)] for j in range(nums_size + 1)]\n",
    "    for i in range(nums_size+1):\n",
    "        dp[i][0] = True\n",
    "\n",
    "    # 遍历行，状态\n",
    "    for i in range(1, nums_size + 1):\n",
    "        # 遍历列，选择\n",
    "        for j in range(1, target_sum + 1):\n",
    "            if j - nums[i-1] < 0:\n",
    "                # 背包中重量已超过j\n",
    "                dp[i][j] = dp[i-1][j]\n",
    "            else:\n",
    "                # 加入j或不加j\n",
    "                dp[i][j] = dp[i - 1][j] or dp[i - 1][j - nums[i - 1]]\n",
    "    return dp[nums_size][target_sum]\n",
    "canPartition([1,2,5])"
   ]
  },
  {
   "cell_type": "code",
   "execution_count": null,
   "metadata": {},
   "outputs": [],
   "source": [
    "# 暴力求解\n",
    "def canPartition(nums: List[int]) -> bool:\n",
    "    # 无法分割成两个子集\n",
    "    if len(nums) <= 1: return False\n",
    "    nums_size = len(nums)\n",
    "    all_sum = sum(nums)\n",
    "    # 所有物品价值和为奇数，无法分割两个等和子集\n",
    "    if all_sum % 2 != 0: return False\n",
    "    \n",
    "    target_sum = all_sum // 2\n",
    "    sub = set()\n",
    "    for i in range(nums_size - 1):\n",
    "        summ = nums[i]\n",
    "        for j in range(i+1, nums_size):\n",
    "            summ += nums[j]\n",
    "            sub.add(summ)\n",
    "\n",
    "    return target_sum in sub\n",
    "\n"
   ]
  }
 ],
 "metadata": {
  "kernelspec": {
   "display_name": "Python 3.9.12 ('base')",
   "language": "python",
   "name": "python3"
  },
  "language_info": {
   "codemirror_mode": {
    "name": "ipython",
    "version": 3
   },
   "file_extension": ".py",
   "mimetype": "text/x-python",
   "name": "python",
   "nbconvert_exporter": "python",
   "pygments_lexer": "ipython3",
   "version": "3.9.12"
  },
  "orig_nbformat": 4,
  "vscode": {
   "interpreter": {
    "hash": "88279d2366fe020547cde40dd65aa0e3aa662a6ec1f3ca12d88834876c85e1a6"
   }
  }
 },
 "nbformat": 4,
 "nbformat_minor": 2
}
