{
 "cells": [
  {
   "cell_type": "markdown",
   "metadata": {},
   "source": [
    "#### 回溯算法\n",
    "核心思想：\n",
    "for 循环里面的递归，在递归调用之前「做选择」，在递归调用之后「撤销选择」"
   ]
  },
  {
   "cell_type": "code",
   "execution_count": 1,
   "metadata": {},
   "outputs": [
    {
     "data": {
      "text/plain": [
       "[[], [1], [1, 3], [1, 3, 5], [1, 5], [3], [3, 5], [5]]"
      ]
     },
     "execution_count": 1,
     "metadata": {},
     "output_type": "execute_result"
    }
   ],
   "source": [
    "from typing import List\n",
    "\n",
    "import copy\n",
    "\n",
    "res, track = [], []\n",
    "# 子集无重复不可复选\n",
    "\n",
    "def backtrack(nums: List[int], start: int) -> None:\n",
    "    res.append(copy.deepcopy(track))\n",
    "    for i in range(start, len(nums)):\n",
    "        # 追加到路径\n",
    "        track.append(nums[i])\n",
    "        # 进入下一个选择\n",
    "        backtrack(nums, i + 1)\n",
    "        # 删除追加的节点\n",
    "        track.pop()\n",
    "\n",
    "def subset(nums: List[int]) -> List[List[int]]:\n",
    "    backtrack(nums, 0)\n",
    "    return res\n",
    "\n",
    "\n",
    "subset([1,3,5])"
   ]
  },
  {
   "cell_type": "code",
   "execution_count": 3,
   "metadata": {},
   "outputs": [
    {
     "data": {
      "text/plain": [
       "[[1, 2], [1, 3], [2, 3]]"
      ]
     },
     "execution_count": 3,
     "metadata": {},
     "output_type": "execute_result"
    }
   ],
   "source": [
    "# 组合 元素无重不可复选\n",
    "# 每个元素仅遍历一次\n",
    "\n",
    "res, track = [], []\n",
    "def backtrack(nums: List[int], start: int, k: int) -> None:\n",
    "    # 只保存符合数量的子集\n",
    "    if (len(track) == k):\n",
    "        res.append(copy.deepcopy(track))\n",
    "\n",
    "    for i in range(start, len(nums)):\n",
    "        # 追加到路径\n",
    "        track.append(nums[i])\n",
    "        # 进入下一个选择\n",
    "        backtrack(nums, i + 1, k)\n",
    "        # 删除追加的节点\n",
    "        track.pop()\n",
    "\n",
    "\n",
    "def combine(n: int, k: int) -> List[List[int]]:\n",
    "    nums = [v for v in range(1, n + 1)]\n",
    "    backtrack(nums, 0, k)\n",
    "    return res\n",
    "\n",
    "combine(3, 2)"
   ]
  },
  {
   "cell_type": "code",
   "execution_count": 11,
   "metadata": {},
   "outputs": [
    {
     "data": {
      "text/plain": [
       "[[1, 2, 3], [1, 3, 2], [2, 1, 3], [2, 3, 1], [3, 1, 2], [3, 2, 1]]"
      ]
     },
     "execution_count": 11,
     "metadata": {},
     "output_type": "execute_result"
    }
   ],
   "source": [
    "# 排列 元素无重不可复选\n",
    "# 每次遍历所有元素，已访问元素跳过\n",
    "from collections import defaultdict\n",
    "\n",
    "res, track = [], []\n",
    "used = defaultdict(bool)\n",
    "def backtrack(nums: List[int]) -> None:\n",
    "    # 只保存符合数量的子集\n",
    "    if (len(track) == len(nums)):\n",
    "        res.append(copy.deepcopy(track))\n",
    "        return\n",
    "\n",
    "    for i in range(len(nums)):\n",
    "        if used[i]: \n",
    "            continue\n",
    "        \n",
    "        # 节点已使用\n",
    "        used[i] = True\n",
    "        track.append(nums[i])\n",
    "        # 进入下一个选择\n",
    "        backtrack(nums)\n",
    "        # 删除追加的节点\n",
    "        track.pop()\n",
    "        # 节点恢复未使用\n",
    "        used[i] = False\n",
    "\n",
    "def permute(nums: List[int]) -> List[List[int]]:\n",
    "    backtrack(nums)\n",
    "    return res\n",
    "\n",
    "permute([1,2,3])\n"
   ]
  },
  {
   "cell_type": "code",
   "execution_count": 13,
   "metadata": {},
   "outputs": [
    {
     "data": {
      "text/plain": [
       "[[],\n",
       " [1],\n",
       " [1, 2],\n",
       " [1, 2, 2],\n",
       " [1, 2, 2, 3],\n",
       " [1, 2, 3],\n",
       " [1, 3],\n",
       " [2],\n",
       " [2, 2],\n",
       " [2, 2, 3],\n",
       " [2, 3],\n",
       " [3]]"
      ]
     },
     "execution_count": 13,
     "metadata": {},
     "output_type": "execute_result"
    }
   ],
   "source": [
    "# 子集 元素重复不可复选, 返回唯一结果\n",
    "\n",
    "res, track = [], []\n",
    "def subsetsWithDup(nums: List[int]) -> List[List[int]]:\n",
    "    nums.sort()\n",
    "    backtrack(nums, 0)\n",
    "    return res\n",
    "\n",
    "def backtrack(nums: List[int], start: int) -> None:\n",
    "    res.append(copy.deepcopy(track))\n",
    "    for i in range(start, len(nums)):\n",
    "        if i > start and nums[i-1] == nums[i]:\n",
    "            continue\n",
    "\n",
    "        # 追加到路径\n",
    "        track.append(nums[i])\n",
    "        # 进入下一个选择\n",
    "        backtrack(nums, i + 1)\n",
    "        # 删除追加的节点\n",
    "        track.pop()\n",
    "subsetsWithDup([1,2,3,2])"
   ]
  },
  {
   "cell_type": "code",
   "execution_count": 15,
   "metadata": {},
   "outputs": [
    {
     "data": {
      "text/plain": [
       "[[1, 2, 2], [2, 1, 2], [2, 2, 1]]"
      ]
     },
     "execution_count": 15,
     "metadata": {},
     "output_type": "execute_result"
    }
   ],
   "source": [
    "# 全排列  有重复元素，不可选\n",
    "\n",
    "res, track = [], []\n",
    "used = defaultdict(bool)\n",
    "def backtrack(nums: List[int]) -> None:\n",
    "    # 只保存符合数量的子集\n",
    "    if (len(track) == len(nums)):\n",
    "        res.append(copy.deepcopy(track))\n",
    "        return\n",
    "\n",
    "    for i in range(len(nums)):\n",
    "        if used[i]: \n",
    "            continue\n",
    "        \n",
    "        # 与前一个值不相等，且当前序列中前一个值未出现\n",
    "        if i > 0 and nums[i-1] == nums[i] and not used[i-1]:\n",
    "            continue\n",
    "\n",
    "        # 节点已使用\n",
    "        used[i] = True\n",
    "        track.append(nums[i])\n",
    "        # 进入下一个选择\n",
    "        backtrack(nums)\n",
    "        # 删除追加的节点\n",
    "        track.pop()\n",
    "        # 节点恢复未使用\n",
    "        used[i] = False\n",
    "\n",
    "def permuteUnique(nums: List[int]) -> List[List[int]]:\n",
    "    # 排序，相同元素连续\n",
    "    nums.sort()\n",
    "    backtrack(nums)\n",
    "    return res\n",
    "\n",
    "permuteUnique([1,2,2])\n"
   ]
  },
  {
   "cell_type": "code",
   "execution_count": 17,
   "metadata": {},
   "outputs": [
    {
     "data": {
      "text/plain": [
       "[[1, 1, 1, 1, 1, 1],\n",
       " [1, 1, 1, 1, 2],\n",
       " [1, 1, 1, 2, 1],\n",
       " [1, 1, 1, 3],\n",
       " [1, 1, 2, 1, 1],\n",
       " [1, 1, 2, 2],\n",
       " [1, 1, 3, 1],\n",
       " [1, 2, 1, 1, 1],\n",
       " [1, 2, 1, 2],\n",
       " [1, 2, 2, 1],\n",
       " [1, 2, 3],\n",
       " [1, 3, 1, 1],\n",
       " [1, 3, 2],\n",
       " [2, 1, 1, 1, 1],\n",
       " [2, 1, 1, 2],\n",
       " [2, 1, 2, 1],\n",
       " [2, 1, 3],\n",
       " [2, 2, 1, 1],\n",
       " [2, 2, 2],\n",
       " [2, 3, 1],\n",
       " [3, 1, 1, 1],\n",
       " [3, 1, 2],\n",
       " [3, 2, 1],\n",
       " [3, 3]]"
      ]
     },
     "execution_count": 17,
     "metadata": {},
     "output_type": "execute_result"
    }
   ],
   "source": [
    "# 组合（元素无重可复选）\n",
    "\n",
    "res, track = [], []\n",
    "# start的作用是保证不逆序遍历\n",
    "def backtrack(nums: List[int], start: int, k: int) -> None:\n",
    "    # 只保存符合数量的子集\n",
    "    if (sum(track) == k):\n",
    "        res.append(copy.deepcopy(track))\n",
    "    elif sum(track) > k:\n",
    "        return    \n",
    "\n",
    "    for i in range(len(nums)):\n",
    "        # 追加到路径\n",
    "        track.append(nums[i])\n",
    "        # 进入下一个选择\n",
    "        backtrack(nums, start, k)\n",
    "        # 删除追加的节点\n",
    "        track.pop()\n",
    "\n",
    "def combinationSum(candidates: List[int], target: int) -> List[List[int]]:\n",
    "    backtrack(candidates, 0, target)\n",
    "    return res\n",
    "combinationSum([1,2,3], 6)"
   ]
  },
  {
   "cell_type": "code",
   "execution_count": null,
   "metadata": {},
   "outputs": [],
   "source": [
    "# 排列（元素无重可复选）\n",
    "res, track = [], []\n",
    "def backtrack(nums: List[int]) -> None:\n",
    "    # 只保存符合数量的子集\n",
    "    if (len(track) == len(nums)):\n",
    "        res.append(copy.deepcopy(track))\n",
    "        return\n",
    "\n",
    "    for i in range(len(nums)):  \n",
    "        track.append(nums[i])\n",
    "        # 进入下一个选择\n",
    "        backtrack(nums)\n",
    "        # 删除追加的节点\n",
    "        track.pop()\n",
    "\n",
    "def permute(nums: List[int]) -> List[List[int]]:\n",
    "    backtrack(nums)\n",
    "    return res\n",
    "\n",
    "permute([1,2,3])"
   ]
  },
  {
   "cell_type": "code",
   "execution_count": 2,
   "metadata": {},
   "outputs": [
    {
     "data": {
      "text/plain": [
       "12870"
      ]
     },
     "execution_count": 2,
     "metadata": {},
     "output_type": "execute_result"
    }
   ],
   "source": [
    "# 目标和\n",
    "# 可选择 + / -\n",
    "import copy\n",
    "from typing import List\n",
    "track, res = [], []\n",
    "def backtrack(nums: List[int], target: int, start: int) -> None:\n",
    "    if len(track) == len(nums) and sum(track) == target:\n",
    "        res.append(copy.deepcopy(track))\n",
    "        return \n",
    "    \n",
    "    for i in range(start, len(nums)):\n",
    "        for op in [\"+\", \"-\"]:\n",
    "            track.append(int(op + str(nums[i])))\n",
    "            backtrack(nums, target, i + 1)\n",
    "            track.pop()\n",
    "\n",
    "def findTargetSumWays(nums: List[int], target: int) -> int:\n",
    "    backtrack(nums, target, 0)\n",
    "    return len(res) \n",
    "\n",
    "findTargetSumWays([1,1,1,1,1,1,1,1,1,1,1,1,1,1,1,1], 0)"
   ]
  },
  {
   "cell_type": "code",
   "execution_count": 31,
   "metadata": {},
   "outputs": [
    {
     "data": {
      "text/plain": [
       "[[4, 7], [4, 7, 7], [4, 6], [4, 6, 7], [7, 7], [6, 7]]"
      ]
     },
     "execution_count": 31,
     "metadata": {},
     "output_type": "execute_result"
    }
   ],
   "source": [
    "# 递增子序列\n",
    "class Solution:\n",
    "    def __init__(self) -> None:\n",
    "        self.track = []\n",
    "        self.res = []\n",
    "\n",
    "    def backtrack(self, nums: List[int], start: int) -> None:\n",
    "        if len(self.track) >= 2:\n",
    "            self.res.append(copy.deepcopy(self.track))\n",
    "        \n",
    "        used = []\n",
    "        for i in range(start, len(nums)):\n",
    "            if len(self.track) > 0 and nums[i] < self.track[-1]:\n",
    "                continue\n",
    "            \n",
    "            if nums[i] in used:\n",
    "                continue\n",
    "\n",
    "            used.append(nums[i])\n",
    "            self.track.append(nums[i])\n",
    "            self.backtrack(nums, i + 1)\n",
    "            self.track.pop()\n",
    "\n",
    "    def findSubsequences(self, nums: List[int]) -> List[List[int]]:\n",
    "        self.backtrack(nums, 0)\n",
    "        return self.res\n",
    "\n",
    "Solution().findSubsequences([4,7,6,7])\n",
    "\n"
   ]
  },
  {
   "cell_type": "code",
   "execution_count": 33,
   "metadata": {},
   "outputs": [],
   "source": [
    "# 二叉树所有路径\n",
    "# DFS\n",
    "from typing import Optional\n",
    "class TreeNode:\n",
    "    def __init__(self, val=0, left=None, right=None):\n",
    "        self.val = val\n",
    "        self.left = left\n",
    "        self.right = right\n",
    "\n",
    "class Solution:\n",
    "    def __init__(self) -> None:\n",
    "        self.res = []\n",
    "        self.track = []\n",
    "\n",
    "    def backtrack(self, root: Optional[TreeNode], path) -> None:\n",
    "        if root:\n",
    "            if path != \"\":\n",
    "                path += \"->\"\n",
    "\n",
    "            path += str(root.val)       \n",
    "            # 叶子节点\n",
    "            if root.left == None and root.right == None:\n",
    "                self.res.append(path)\n",
    "\n",
    "            if root.left:\n",
    "                self.backtrack(root.left, path)\n",
    "            if root.right:\n",
    "                self.backtrack(root.right, path)\n",
    "            \n",
    "        \n",
    "    def binaryTreePaths(self, root: Optional[TreeNode]) -> List[str]:\n",
    "        self.backtrack(root, \"\")\n",
    "        return self.res\n"
   ]
  },
  {
   "cell_type": "code",
   "execution_count": null,
   "metadata": {},
   "outputs": [],
   "source": []
  }
 ],
 "metadata": {
  "kernelspec": {
   "display_name": "Python 3.9.12 ('base')",
   "language": "python",
   "name": "python3"
  },
  "language_info": {
   "codemirror_mode": {
    "name": "ipython",
    "version": 3
   },
   "file_extension": ".py",
   "mimetype": "text/x-python",
   "name": "python",
   "nbconvert_exporter": "python",
   "pygments_lexer": "ipython3",
   "version": "3.9.12"
  },
  "orig_nbformat": 4,
  "vscode": {
   "interpreter": {
    "hash": "88279d2366fe020547cde40dd65aa0e3aa662a6ec1f3ca12d88834876c85e1a6"
   }
  }
 },
 "nbformat": 4,
 "nbformat_minor": 2
}
