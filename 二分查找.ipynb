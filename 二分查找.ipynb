{
 "cells": [
  {
   "cell_type": "code",
   "execution_count": 1,
   "metadata": {},
   "outputs": [],
   "source": [
    "from typing import List"
   ]
  },
  {
   "cell_type": "code",
   "execution_count": 5,
   "metadata": {},
   "outputs": [
    {
     "name": "stdout",
     "output_type": "stream",
     "text": [
      "0\n"
     ]
    }
   ],
   "source": [
    "# 33. 搜索旋转排序数组（https://leetcode.cn/problems/search-in-rotated-sorted-array/）\n",
    "class Solution:\n",
    "    def search(self, nums: List[int], target: int) -> int:\n",
    "        if len(nums) == 1:\n",
    "            return 0 if nums[0] == target else -1\n",
    "\n",
    "        fast = 1\n",
    "        while fast < len(nums) and nums[fast] > nums[fast-1]:\n",
    "                fast += 1\n",
    "        left_search_result = self.binary_search(nums, target, 0, fast-1)\n",
    "        if left_search_result != -1: \n",
    "            return left_search_result\n",
    "        right_search_result = self.binary_search(nums, target, fast, len(nums)-1)\n",
    "        return right_search_result if right_search_result != -1 else -1\n",
    "\n",
    "    def binary_search(self, nums: List[int], target: int, start: int, end: int):\n",
    "        while start <= end:\n",
    "            mid = start + (end - start) // 2\n",
    "            if nums[mid] == target:\n",
    "                return mid\n",
    "            elif nums[mid] > target:\n",
    "                end = mid - 1\n",
    "            else:\n",
    "                start = mid + 1\n",
    "        return -1\n",
    "\n",
    "print(Solution().search([1], 1))"
   ]
  },
  {
   "cell_type": "code",
   "execution_count": 9,
   "metadata": {},
   "outputs": [
    {
     "name": "stdout",
     "output_type": "stream",
     "text": [
      "14\n",
      "True\n"
     ]
    }
   ],
   "source": [
    "# 81. 搜索旋转排序数组 II (https://leetcode.cn/problems/search-in-rotated-sorted-array-ii/)\n",
    "# 区别：数组中的值可能存在相同的值\n",
    "class Solution:\n",
    "    def search(self, nums: List[int], target: int) -> bool:\n",
    "        if len(nums) == 1:\n",
    "            return nums[0] == target\n",
    "\n",
    "        fast = 1\n",
    "        # 存在重复数值，即允许等于前一个数值\n",
    "        while fast < len(nums) and nums[fast] >= nums[fast-1]:\n",
    "                fast += 1\n",
    "        print(fast)\n",
    "        return self.binary_search(nums, target, 0, fast-1) or self.binary_search(nums, target, fast, len(nums)-1)\n",
    "\n",
    "    def binary_search(self, nums: List[int], target: int, start: int, end: int):\n",
    "        while start <= end:\n",
    "            mid = start + (end - start) // 2\n",
    "            if nums[mid] == target:\n",
    "                return True\n",
    "            elif nums[mid] > target:\n",
    "                end = mid - 1\n",
    "            else:\n",
    "                start = mid + 1\n",
    "        return False\n",
    "\n",
    "print(Solution().search([1,1,1,1,1,1,1,1,1,1,1,1,1,2,1,1,1,1,1], 2))"
   ]
  },
  {
   "cell_type": "code",
   "execution_count": 16,
   "metadata": {},
   "outputs": [
    {
     "name": "stdout",
     "output_type": "stream",
     "text": [
      "11\n"
     ]
    }
   ],
   "source": [
    "# 153. 寻找旋转排序数组中的最小值（https://leetcode.cn/problems/find-minimum-in-rotated-sorted-array/）\n",
    "class Solution:\n",
    "    def findMin(self, nums: List[int]) -> int:\n",
    "        if len(nums) == 1: return nums[0]\n",
    "        fast_p = 1\n",
    "        while fast_p < len(nums) and nums[fast_p] > nums[fast_p-1]:\n",
    "            fast_p += 1\n",
    "        if fast_p == len(nums):\n",
    "            return nums[0]\n",
    "        return nums[fast_p]\n",
    "\n",
    "print(Solution().findMin([11,13,15,17]))"
   ]
  },
  {
   "cell_type": "code",
   "execution_count": null,
   "metadata": {},
   "outputs": [],
   "source": []
  }
 ],
 "metadata": {
  "kernelspec": {
   "display_name": "Python 3.9.12 ('base')",
   "language": "python",
   "name": "python3"
  },
  "language_info": {
   "codemirror_mode": {
    "name": "ipython",
    "version": 3
   },
   "file_extension": ".py",
   "mimetype": "text/x-python",
   "name": "python",
   "nbconvert_exporter": "python",
   "pygments_lexer": "ipython3",
   "version": "3.9.12"
  },
  "orig_nbformat": 4,
  "vscode": {
   "interpreter": {
    "hash": "88279d2366fe020547cde40dd65aa0e3aa662a6ec1f3ca12d88834876c85e1a6"
   }
  }
 },
 "nbformat": 4,
 "nbformat_minor": 2
}
