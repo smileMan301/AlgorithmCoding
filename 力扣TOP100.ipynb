{
 "cells": [
  {
   "cell_type": "code",
   "execution_count": 2,
   "metadata": {},
   "outputs": [],
   "source": [
    "from typing import Dict, List, Optional\n",
    "from collections import defaultdict"
   ]
  },
  {
   "cell_type": "code",
   "execution_count": 9,
   "metadata": {},
   "outputs": [
    {
     "data": {
      "text/plain": [
       "4"
      ]
     },
     "execution_count": 9,
     "metadata": {},
     "output_type": "execute_result"
    }
   ],
   "source": [
    "# 136.只出现一次的数字\n",
    "# 题干信息\n",
    "# 1.非空数组，不需要判空 2.仅一个元素出现1词，其他均出现2次\n",
    "class Solution:\n",
    "    # 1.哈希表存储->排序->首位元素\n",
    "    def singleNumber(self, nums: List[int]) -> int:\n",
    "        num_map = defaultdict(int)\n",
    "        for num in nums:\n",
    "            num_map[num] += 1\n",
    "        return sorted(num_map.items(), key=lambda x: x[1])[0][0]\n",
    "\n",
    "    # 2.位异或，相同元素异或为0，0与任何数异或为数本身\n",
    "    def singleNumber2(self, nums: List[int]) -> int:\n",
    "        first_elem = nums[0]\n",
    "        for i in range(1, len(nums)):\n",
    "            first_elem ^= nums[i]\n",
    "        return first_elem\n",
    "\n",
    "Solution().singleNumber2([4,1,2,1,2])"
   ]
  },
  {
   "cell_type": "code",
   "execution_count": 23,
   "metadata": {},
   "outputs": [
    {
     "data": {
      "text/plain": [
       "0"
      ]
     },
     "execution_count": 23,
     "metadata": {},
     "output_type": "execute_result"
    }
   ],
   "source": [
    "# 121. 买卖股票的最佳时机\n",
    "\n",
    "class Solution:\n",
    "    def maxProfit(self, prices: List[int]) -> int:\n",
    "        num_prices = len(prices)\n",
    "        if num_prices == 1: return 0\n",
    "        if num_prices == 2: return max(0, prices[1] - prices[0])\n",
    "\n",
    "        dp: List[int] = [0] * (num_prices + 1)\n",
    "        dp[1], dp[2] = 0, max(0, prices[1] - prices[0])\n",
    "        min_v = min(prices[0], prices[1])\n",
    "        \n",
    "        for i in range(3, num_prices + 1):\n",
    "            dp[i] = max(dp[i-1], prices[i-1] - min_v)\n",
    "            min_v = min(min_v, prices[i-1])\n",
    "        return dp[num_prices]\n",
    "\n",
    "Solution().maxProfit([7,6,4,3,1])"
   ]
  },
  {
   "cell_type": "code",
   "execution_count": 25,
   "metadata": {},
   "outputs": [
    {
     "data": {
      "text/plain": [
       "2"
      ]
     },
     "execution_count": 25,
     "metadata": {},
     "output_type": "execute_result"
    }
   ],
   "source": [
    "# 169. 多数元素（某元素出现次数大于 n / 2）\n",
    "class Solution:\n",
    "    def majorityElement(self, nums: List[int]) -> int:\n",
    "        if len(nums) == 1: return nums[0]\n",
    "        nums.sort()\n",
    "        return nums[len(nums) // 2]\n",
    "Solution().majorityElement([2,2,1,1,1,2,2])"
   ]
  },
  {
   "cell_type": "code",
   "execution_count": 9,
   "metadata": {},
   "outputs": [
    {
     "name": "stdout",
     "output_type": "stream",
     "text": [
      "[1, 2, 4, 6, 0, 0]\n"
     ]
    }
   ],
   "source": [
    "# 283. 移动零\n",
    "# 所有0移动到末尾（原地修改）\n",
    "class Solution:\n",
    "    def moveZeroes(self, nums: List[int]) -> None:\n",
    "        \"\"\"\n",
    "        Do not return anything, modify nums in-place instead.\n",
    "        \"\"\"\n",
    "        if len(nums) <= 1: return\n",
    "        i, j = 0, 0\n",
    "        while i < len(nums) and j < len(nums):\n",
    "            while i < len(nums) and nums[i] == 0:\n",
    "                i += 1\n",
    "            if i < len(nums) and j < i:\n",
    "                temp = nums[j]\n",
    "                nums[j] = nums[i]\n",
    "                nums[i] = temp\n",
    "            j += 1\n",
    "            i += 1 \n",
    "        print(nums)\n",
    "\n",
    "Solution().moveZeroes([1,2,4,0,6,0])\n",
    "            \n"
   ]
  },
  {
   "cell_type": "code",
   "execution_count": 32,
   "metadata": {},
   "outputs": [
    {
     "data": {
      "text/plain": [
       "[5, 6]"
      ]
     },
     "execution_count": 32,
     "metadata": {},
     "output_type": "execute_result"
    }
   ],
   "source": [
    "# 448. 找到所有数组中消失的数字\n",
    "# nums元素在[1,n], 找出[1,n]区间内没有出现的元素\n",
    "class Solution:\n",
    "    def findDisappearedNumbers(self, nums: List[int]) -> List[int]:\n",
    "        occur_num_map = defaultdict(int)\n",
    "        for num in nums:\n",
    "            occur_num_map[num] += 1\n",
    "        print(occur_num_map)\n",
    "        missing_nums = []\n",
    "        for i in range(1, len(nums) + 1):\n",
    "            if occur_num_map[i] == 0:\n",
    "                missing_nums.append(i)\n",
    "        return missing_nums\n",
    "\n",
    "    # 原地修改\n",
    "    def findDisappearedNumbers2(self, nums: List[int]) -> List[int]:\n",
    "        n = len(nums)\n",
    "        for num in nums:\n",
    "            x = (num - 1) % n\n",
    "            nums[x] += n\n",
    "\n",
    "        return [i+1 for (i, num) in enumerate(nums) if num <= n]\n",
    "\n",
    "Solution().findDisappearedNumbers2([4,3,2,7,8,2,3,1])"
   ]
  },
  {
   "cell_type": "code",
   "execution_count": null,
   "metadata": {},
   "outputs": [],
   "source": []
  }
 ],
 "metadata": {
  "kernelspec": {
   "display_name": "Python 3.9.12 ('base')",
   "language": "python",
   "name": "python3"
  },
  "language_info": {
   "codemirror_mode": {
    "name": "ipython",
    "version": 3
   },
   "file_extension": ".py",
   "mimetype": "text/x-python",
   "name": "python",
   "nbconvert_exporter": "python",
   "pygments_lexer": "ipython3",
   "version": "3.9.12"
  },
  "orig_nbformat": 4,
  "vscode": {
   "interpreter": {
    "hash": "88279d2366fe020547cde40dd65aa0e3aa662a6ec1f3ca12d88834876c85e1a6"
   }
  }
 },
 "nbformat": 4,
 "nbformat_minor": 2
}
