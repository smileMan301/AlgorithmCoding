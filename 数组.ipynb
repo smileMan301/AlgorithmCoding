{
 "cells": [
  {
   "cell_type": "markdown",
   "metadata": {},
   "source": [
    "+ 快慢指针（原地删除元素、滑动窗口）\n",
    "+ 左右指针（二分查找）"
   ]
  },
  {
   "cell_type": "code",
   "execution_count": 18,
   "metadata": {},
   "outputs": [],
   "source": [
    "# 导入必要的库\n",
    "from typing import List"
   ]
  },
  {
   "cell_type": "code",
   "execution_count": 6,
   "metadata": {},
   "outputs": [
    {
     "data": {
      "text/plain": [
       "1"
      ]
     },
     "execution_count": 6,
     "metadata": {},
     "output_type": "execute_result"
    }
   ],
   "source": [
    "# 二分查找，返回目标值的位置（前提是递增数组）\n",
    "def binarySearch(nums: List[int], target: int) -> int:\n",
    "    num_count = len(nums)\n",
    "    # 空数组\n",
    "    if num_count == 0:\n",
    "        return -1\n",
    "    start, end = 0, num_count - 1\n",
    "    while start <= end:\n",
    "        mid = (start + end) // 2\n",
    "        if nums[mid] == target:\n",
    "            return mid\n",
    "        elif nums[mid] > target:\n",
    "            # 往小(前)移\n",
    "            end = mid - 1\n",
    "        else:\n",
    "            start = mid + 1\n",
    "    return -1\n",
    "\n",
    "binarySearch([1,3,3,7], 3)\n"
   ]
  },
  {
   "cell_type": "code",
   "execution_count": 9,
   "metadata": {},
   "outputs": [
    {
     "data": {
      "text/plain": [
       "[1, 2]"
      ]
     },
     "execution_count": 9,
     "metadata": {},
     "output_type": "execute_result"
    }
   ],
   "source": [
    "# 两数之和V2\n",
    "# 非递减序列\n",
    "def twoSum(numbers: List[int], target: int) -> List[int]:\n",
    "    start, end = 1, len(numbers)\n",
    "    while start < end:\n",
    "        cur_sum = numbers[start-1] + numbers[end-1]\n",
    "        if cur_sum == target:\n",
    "            return [start, end]\n",
    "        elif cur_sum > target:\n",
    "            # 和偏大，往小移\n",
    "            end -= 1\n",
    "        else:\n",
    "            # 和偏小，往大移\n",
    "            start += 1\n",
    "    return [-1,-1]\n",
    "\n",
    "twoSum([-1, 0], -1)"
   ]
  },
  {
   "cell_type": "code",
   "execution_count": 13,
   "metadata": {},
   "outputs": [
    {
     "name": "stdout",
     "output_type": "stream",
     "text": [
      "['h', 'a', 'n', 'n', 'a', 'H']\n"
     ]
    }
   ],
   "source": [
    "# 反转数组\n",
    "def reverseString(s: List[str]) -> None:\n",
    "    s_l = len(s)\n",
    "    if s_l <= 1: return s\n",
    "    start, end = 0, s_l - 1\n",
    "    while start <= end:\n",
    "        temp = s[end]\n",
    "        s[end] = s[start]\n",
    "        s[start] = temp\n",
    "        start += 1\n",
    "        end -= 1\n",
    "    print(s)\n",
    "reverseString([\"H\",\"a\",\"n\",\"n\",\"a\",\"h\"])"
   ]
  },
  {
   "cell_type": "code",
   "execution_count": 25,
   "metadata": {},
   "outputs": [
    {
     "data": {
      "text/plain": [
       "'bb'"
      ]
     },
     "execution_count": 25,
     "metadata": {},
     "output_type": "execute_result"
    }
   ],
   "source": [
    "# 最长回文-> 1.从中间点出发，寻找最长匹配长度  2.遍历寻找中间点，比较每个中间点的回文长度\n",
    "# 给定回文中点\n",
    "def palindrome(s: str, mid1: int, mid2: int) -> str:\n",
    "    # 当回文序列为偶数时，mid1 == mid2\n",
    "    while mid1 >= 0 and mid2 < len(s) and s[mid1] == s[mid2]:\n",
    "        mid1 -= 1\n",
    "        mid2 += 1\n",
    "    return s[mid1 + 1 : mid2]\n",
    "\n",
    "palindrome(\"cbbd\", 1, 2)"
   ]
  },
  {
   "cell_type": "code",
   "execution_count": 28,
   "metadata": {},
   "outputs": [
    {
     "data": {
      "text/plain": [
       "'bb'"
      ]
     },
     "execution_count": 28,
     "metadata": {},
     "output_type": "execute_result"
    }
   ],
   "source": [
    "# 最长回文，遍历所有位置，分别计算回文长度\n",
    "def longestPalindrome(s: str) -> str:\n",
    "    res = \"\"\n",
    "    for i in range(len(s)):\n",
    "        # i为回文中心\n",
    "        r1 = palindrome(s, i, i)\n",
    "        # i, i+1为回文中心\n",
    "        r2 = palindrome(s, i, i+1)\n",
    "        # print(f\"i={i}, r1={r1}, r2={r2}, res={res}\")\n",
    "        res = r1 if len(r1) > len(res) else res\n",
    "        res = r2 if len(r2) > len(res) else res\n",
    "    return res\n",
    "\n",
    "longestPalindrome(\"cbbd\")\n",
    "# 前缀和(区间和/区间数量)\n",
    "# 记录每个位置到开始位置的和presum[i], 则第[i,j]的和为 presum[j+1] - presum[i](包含i和j)\n",
    "class NumArray:\n",
    "    def __init__(self, nums: List[int]):\n",
    "        self.res = [0] * (len(nums) + 1)\n",
    "        for i in range(1, len(nums) + 1):\n",
    "            self.res[i] = self.res[i-1] + nums[i-1]\n",
    "    def sumRange(self, left: int, right: int) -> int:\n",
    "        return self.res[right+1] - self.res[left]"
   ]
  },
  {
   "cell_type": "markdown",
   "metadata": {},
   "source": [
    "+ 前缀和：   频繁查询某个区间的累加和\n",
    "+ 差分数组： 对原数组某个区间元素增减"
   ]
  },
  {
   "cell_type": "code",
   "execution_count": 29,
   "metadata": {},
   "outputs": [],
   "source": [
    "# 前缀和(区间和/区间数量)\n",
    "# 记录每个位置到开始位置的和presum[i], 则第[i,j]的和为 presum[j+1] - presum[i](包含i和j)\n",
    "class NumArray:\n",
    "    def __init__(self, nums: List[int]):\n",
    "        self.res = [0] * (len(nums) + 1)\n",
    "        for i in range(1, len(nums) + 1):\n",
    "            self.res[i] = self.res[i-1] + nums[i-1]\n",
    "    def sumRange(self, left: int, right: int) -> int:\n",
    "        return self.res[right+1] - self.res[left]"
   ]
  },
  {
   "cell_type": "code",
   "execution_count": 3,
   "metadata": {},
   "outputs": [],
   "source": [
    "# 二维数组的前缀和（画图更容易理解）\n",
    "# 计算\n",
    "class NumMatrix:\n",
    "\n",
    "    def __init__(self, matrix: List[List[int]]):\n",
    "        row, col = len(matrix), len(matrix[0])\n",
    "        self.res = [[0 for i in range(col+1)] for j in range(row+1)]\n",
    "        for i in range(1, row+1):\n",
    "            for j in range(1, col+1):\n",
    "                self.res[i][j] = self.res[i-1][j] + self.res[i][j-1] - self.res[i-1][j-1] + matrix[i-1][j-1]\n",
    "\n",
    "    def sumRegion(self, row1: int, col1: int, row2: int, col2: int) -> int:\n",
    "        return self.res[row2+1][col2+1] - self.res[row1+1, col2] - self.res[row2][col1] + self.res[row1][col1]"
   ]
  },
  {
   "cell_type": "code",
   "execution_count": 2,
   "metadata": {},
   "outputs": [],
   "source": [
    "from collections import defaultdict\n",
    "# s2是否包含s1\n",
    "class Solution:\n",
    "    def __init__(self) -> None:\n",
    "        self.windows = defaultdict(int)\n",
    "        self.needs = defaultdict(int)\n",
    "    def checkInclusion(self, s1: str, s2: str) -> bool:\n",
    "        # 字串初始化\n",
    "        for s in s1:\n",
    "            self.needs[s] += 1\n",
    "        left, right, num_valid = 0, 0, 0\n",
    "        while right < len(s2):\n",
    "            # 遍历父串\n",
    "            ready_to_in = s2[right]\n",
    "            right += 1\n",
    "            # 若当前字符在字串中\n",
    "            if ready_to_in in self.needs.keys():\n",
    "                self.windows[ready_to_in] += 1\n",
    "                # 字串某字符已满足出现次数\n",
    "                if self.windows[ready_to_in] == self.needs[ready_to_in]:\n",
    "                    num_valid += 1\n",
    "            while right - left >= len(s1):\n",
    "                # 当前窗口大小超过字串大小\n",
    "                if num_valid == len(self.needs.keys()):\n",
    "                    # 包含所有字串字符\n",
    "                    return True\n",
    "                ready_to_out = s2[left]\n",
    "                left += 1\n",
    "                if ready_to_out in self.needs.keys():\n",
    "                    if self.windows[ready_to_out] == self.needs[ready_to_out]:\n",
    "                        num_valid -= 1\n",
    "                    self.windows[ready_to_out] -= 1\n",
    "        return False\n",
    "        "
   ]
  },
  {
   "cell_type": "code",
   "execution_count": 16,
   "metadata": {},
   "outputs": [
    {
     "data": {
      "text/plain": [
       "4"
      ]
     },
     "execution_count": 16,
     "metadata": {},
     "output_type": "execute_result"
    }
   ],
   "source": [
    "class Solution:\n",
    "    def __init__(self) -> None:\n",
    "        self.windows = {}\n",
    "\n",
    "    # 无重复字符的最长字串\n",
    "    def lengthOfLongestSubstring(self, s: str) -> int:\n",
    "        # 边界特殊值\n",
    "        if len(s) == 0:\n",
    "            return 0\n",
    "\n",
    "        left, right = 0, 0\n",
    "        longeset_substring_len = 1\n",
    "\n",
    "        while right < len(s):\n",
    "            ready_to_in = s[right]\n",
    "            if ready_to_in not in self.windows.keys():\n",
    "                # 首次在窗口出现\n",
    "                right += 1\n",
    "                self.windows[ready_to_in] = 1\n",
    "            else:\n",
    "                while ready_to_in in self.windows.keys() and left < right:\n",
    "                    # 若当前字串存在于窗口\n",
    "                    ready_to_out = s[left]\n",
    "                    left += 1\n",
    "\n",
    "                    del self.windows[ready_to_out]\n",
    "             # 记录最长的字串（全局比较）\n",
    "            longeset_substring_len = max(longeset_substring_len, len(self.windows.keys()))\n",
    "        return longeset_substring_len\n",
    "\n",
    "Solution().lengthOfLongestSubstring(\"abc abcbb\")"
   ]
  }
 ],
 "metadata": {
  "kernelspec": {
   "display_name": "Python 3.9.12 ('base')",
   "language": "python",
   "name": "python3"
  },
  "language_info": {
   "codemirror_mode": {
    "name": "ipython",
    "version": 3
   },
   "file_extension": ".py",
   "mimetype": "text/x-python",
   "name": "python",
   "nbconvert_exporter": "python",
   "pygments_lexer": "ipython3",
   "version": "3.9.12"
  },
  "orig_nbformat": 4,
  "vscode": {
   "interpreter": {
    "hash": "88279d2366fe020547cde40dd65aa0e3aa662a6ec1f3ca12d88834876c85e1a6"
   }
  }
 },
 "nbformat": 4,
 "nbformat_minor": 2
}
