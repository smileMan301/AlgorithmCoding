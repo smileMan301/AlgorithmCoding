{
 "cells": [
  {
   "cell_type": "code",
   "execution_count": 8,
   "metadata": {},
   "outputs": [],
   "source": [
    "# 导入必要的依赖包\n",
    "import sys\n",
    "\n",
    "from typing import List, Optional"
   ]
  },
  {
   "cell_type": "markdown",
   "metadata": {},
   "source": [
    "##### 链表"
   ]
  },
  {
   "cell_type": "code",
   "execution_count": 3,
   "metadata": {},
   "outputs": [],
   "source": [
    "class ListNode:\n",
    "    def __init__(self, val=0, next=None):\n",
    "        self.val = val\n",
    "        self.next = next"
   ]
  },
  {
   "cell_type": "code",
   "execution_count": null,
   "metadata": {},
   "outputs": [],
   "source": [
    "# 206. 反转链表\n",
    "class Solution:\n",
    "    # 双指针遍历，保留前后两个变换位置的指针\n",
    "    def reverseList(self, head: Optional[ListNode]) -> Optional[ListNode]:\n",
    "        if head == None: return None\n",
    "        dummpy = head.next\n",
    "        pre_node = head\n",
    "        while dummpy != None:\n",
    "            temp = dummpy.next\n",
    "            dummpy.next = pre_node\n",
    "            pre_node = dummpy\n",
    "            dummpy = temp\n",
    "        head.next = None\n",
    "        return pre_node"
   ]
  },
  {
   "cell_type": "markdown",
   "metadata": {},
   "source": [
    "##### 数组"
   ]
  },
  {
   "cell_type": "code",
   "execution_count": 7,
   "metadata": {},
   "outputs": [
    {
     "name": "stdout",
     "output_type": "stream",
     "text": [
      "[-9223372036854775806, -1, 4, 12]\n"
     ]
    },
    {
     "data": {
      "text/plain": [
       "12"
      ]
     },
     "execution_count": 7,
     "metadata": {},
     "output_type": "execute_result"
    }
   ],
   "source": [
    "# 53. 最大子数组和（动态规划）\n",
    "# 状态转移方程: dp[i] = max{dp[i-1] + nums[i], nums[i]}\n",
    "class Solution:\n",
    "    def maxSubArray(self, nums: List[int]) -> int:\n",
    "        if not nums: return -1\n",
    "        if len(nums) == 0: return -1\n",
    "        if len(nums) == 1: return nums[0]\n",
    "        dp = [1-sys.maxsize] * (len(nums) + 1)\n",
    "        dp[1] = nums[0]\n",
    "        for i in range(2, len(nums) + 1):\n",
    "            dp[i] = max(dp[i-1] + nums[i-1], nums[i-1])\n",
    "        print(dp)\n",
    "        return max(dp)\n",
    "\n",
    "Solution().maxSubArray([-1,4,8])"
   ]
  },
  {
   "cell_type": "code",
   "execution_count": null,
   "metadata": {},
   "outputs": [],
   "source": [
    "# 121. 买卖股票的最佳时机"
   ]
  }
 ],
 "metadata": {
  "kernelspec": {
   "display_name": "Python 3.9.12 ('base')",
   "language": "python",
   "name": "python3"
  },
  "language_info": {
   "codemirror_mode": {
    "name": "ipython",
    "version": 3
   },
   "file_extension": ".py",
   "mimetype": "text/x-python",
   "name": "python",
   "nbconvert_exporter": "python",
   "pygments_lexer": "ipython3",
   "version": "3.9.12"
  },
  "orig_nbformat": 4,
  "vscode": {
   "interpreter": {
    "hash": "88279d2366fe020547cde40dd65aa0e3aa662a6ec1f3ca12d88834876c85e1a6"
   }
  }
 },
 "nbformat": 4,
 "nbformat_minor": 2
}
